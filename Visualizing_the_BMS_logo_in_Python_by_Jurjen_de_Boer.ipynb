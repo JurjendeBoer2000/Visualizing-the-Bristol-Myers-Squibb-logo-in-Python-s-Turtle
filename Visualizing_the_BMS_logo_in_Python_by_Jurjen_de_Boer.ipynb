{
 "cells": [
  {
   "cell_type": "markdown",
   "metadata": {},
   "source": [
    "## Project: Visualizing the BMS logo in the Turtle module for Python\n",
    "\n",
    "In this project I will recreate the (old) Bristol-Myers Squibb logo using the Turtle module that's available for Python.\n",
    "\n",
    "The name Turtle for the Turtle module represents the turtle robot, a simple robot controlled from the user's workstation that is designed to carry out the drawing functions assigned to it using a small retractable pen set into or attached to the robot's body. More information can be found on the [Wikipedia page for Turtle Graphics](https://en.wikipedia.org/wiki/Turtle_graphics). \n",
    "\n",
    "Instead of simply redrawing the exact same logo, we are going to use an iterative algorithm to turn each of the six triangles in the logo into spiraling triangles.\n",
    " \n",
    "\n",
    "<img src=\"https://i.imgur.com/3Ylsu59.jpg\" alt=\"Logo Comparison\"/>\n",
    "\n"
   ]
  },
  {
   "cell_type": "markdown",
   "metadata": {},
   "source": [
    "## 1. Set-Up\n",
    "In the following set-up simply imports the Turtle module and initializes some important variables. \n",
    "\n",
    "+ `import turtle` this imports the Turtle module\n",
    "\n",
    "+ `turtle.speed(0)` this sets the speed of the turtle (the little robot that draws the lines) to its maximum\n",
    "\n",
    "+ `turtle.colormode(255)` and `turtle.bgcolor(18, 55, 84)` allows us to set the background color using the RGB format\n",
    "\n",
    "+ `turtle.width(2)` this sets the width of each line to be drawn by the turtle\n",
    "\n",
    "+ `turtle.delay(0)` this disables the standard 10ms delay the turtle uses when changing direction. You can comment this one out if you wish to meticulously watch the turtle draw the logo\n",
    "\n",
    "+ `turtle.hideturtle()` this hides the turtle (little icon of a turtle when drawing the lines)\n",
    "\n",
    "+ `turtle.color(\"white\")` this sets the line color to white"
   ]
  },
  {
   "cell_type": "code",
   "execution_count": 3,
   "metadata": {},
   "outputs": [],
   "source": [
    "import turtle\n",
    "turtle.speed(0)\n",
    "turtle.colormode(255)\n",
    "turtle.bgcolor(18, 55, 84)\n",
    "turtle.width(2)\n",
    "turtle.delay(0)\n",
    "turtle.hideturtle()\n",
    "turtle.color(\"white\")"
   ]
  },
  {
   "cell_type": "markdown",
   "metadata": {},
   "source": [
    "## 2. Setting the coordinates\n",
    "\n",
    "First, we will make a list containing all the coordinates. One coordinate represents the position of one of the triangles in the logo.\n",
    "\n",
    "The default coordinates are (0,0), representing the middle of the screen. Because our first triangle is not in the middle but on the top-left, we will subtract from the x-axis and add to the y-axis.\n",
    "`x=-150`\n",
    "`y=150`\n",
    "\n",
    "We will set the first value of the list to the X and Y axes we have initialized above. The subsequent coordinates are entirely based on feeling and trial-and-error."
   ]
  },
  {
   "cell_type": "code",
   "execution_count": 9,
   "metadata": {
    "scrolled": true
   },
   "outputs": [],
   "source": [
    "x=-150\n",
    "y=150\n",
    "coordinates=((x,y),(x+150,y+80),(x+280,y),(x+10,y-150),(x+140,y-230), (x+290,y-150))\n"
   ]
  },
  {
   "cell_type": "markdown",
   "metadata": {},
   "source": [
    "## 3. Creating the spiraling triangles and placing each of them into the correct position\n",
    "\n",
    "First, we define a function and a loop that goes through each item of the `coordinates` list.\n",
    " + `def bristol_myers_squibb():\n",
    "    for i in coordinates:`\n",
    "  \n",
    "For each coordinate in the list we want the turtle to move to the coordinate without drawing a line on its path towards it. We can temporarily stop the turtle from drawing any lines using `turtle.penup()`. With the pen being up, the 'pen' is no longer on the 'paper' and thus we can move to the next coordinate using `turtle.setpos(i)` with `i` being the coordinate. Once we are in the correct position, we place the pen back on the paper using `turtle.pendown()` and the turtle is allowed to draw again."
   ]
  },
  {
   "cell_type": "code",
   "execution_count": 10,
   "metadata": {
    "scrolled": false
   },
   "outputs": [],
   "source": [
    "def bristol_myers_squibb():\n",
    "    for i in coordinates:\n",
    "        turtle.penup()\n",
    "        turtle.setpos(i)\n",
    "        turtle.pendown()"
   ]
  },
  {
   "cell_type": "markdown",
   "metadata": {},
   "source": [
    "Next, we need to decide whether to place an up-pointing- or down-pointing triangle The logo is made up out of six triangles in the following manner:\n",
    "\n",
    "+ First row: up-pointing triangle, down-pointing triangle, up-pointing triangle\n",
    "+ Second row: down-pointing triangle, up-pointing triangle, down-pointing triangle\n",
    "\n",
    "If we were to place the indices of the `coordinates` list into two rows it would look something like this:\n",
    "+ First row: 0, 1, 2\n",
    "+ Second row: 3, 4, 5\n",
    "\n",
    "We can use modulo to decide whether we want to draw either a up-pointing- or down-pointing triangle for that index.\n",
    "First, we create a new variable `index` and give it the value `coordinates.index(i)` with `i` being the current coordinate going through the `for i in coordinates:` loop.\n",
    "Next, we make an if statement with the condition `index%2 == 0`. If index divided by 2 equals a remainder of 0 then we must create an up-pointing triangle. If not, a down-pointing triangle."
   ]
  },
  {
   "cell_type": "code",
   "execution_count": 12,
   "metadata": {
    "scrolled": true
   },
   "outputs": [
    {
     "ename": "IndentationError",
     "evalue": "expected an indented block (<ipython-input-12-fefe149d8ee2>, line 2)",
     "output_type": "error",
     "traceback": [
      "\u001b[1;36m  File \u001b[1;32m\"<ipython-input-12-fefe149d8ee2>\"\u001b[1;36m, line \u001b[1;32m2\u001b[0m\n\u001b[1;33m    if index%2 == 0:\u001b[0m\n\u001b[1;37m                    ^\u001b[0m\n\u001b[1;31mIndentationError\u001b[0m\u001b[1;31m:\u001b[0m expected an indented block\n"
     ]
    }
   ],
   "source": [
    "index = coordinates.index(i)\n",
    "if index%2 == 0:"
   ]
  },
  {
   "cell_type": "markdown",
   "metadata": {},
   "source": [
    "We can create an up-pointing triangle using an iterative algorithm. An iterative algorithm changes its action based on a variable that changes over iterations.\n",
    "\n",
    "First, we make a loop with a range of 50. For every iteration, we want to move the turtle by a variable amount. We can pass in the value `j`, a variable that changes every iteration as each iteration adds 1 to `j`. The turtle always faces to the right by default. By saying `turtle.forward(10+j*5)` we tell the turtle to first move the right for 10 pixels, plus the iteration count multiplied by 5. After having moved, in order to make a triangle, we have to change the turtle's direction. Using `turtle.left(120)` we can change the turtle's direction towards the left by 120 degrees. Once the turtle has turned it will draw a line that is 5 pixels longer than the line that preceeds and so on.\n",
    "\n",
    "For a down-pointing triangle there is only one difference: instead of turning 120 degrees to the left, the turtle turns 120 degrees to the right."
   ]
  },
  {
   "cell_type": "code",
   "execution_count": 2,
   "metadata": {},
   "outputs": [
    {
     "ename": "NameError",
     "evalue": "name 'turtle' is not defined",
     "output_type": "error",
     "traceback": [
      "\u001b[1;31m---------------------------------------------------------------------------\u001b[0m",
      "\u001b[1;31mNameError\u001b[0m                                 Traceback (most recent call last)",
      "\u001b[1;32m<ipython-input-2-eee2ee3b2f68>\u001b[0m in \u001b[0;36m<module>\u001b[1;34m\u001b[0m\n\u001b[0;32m      1\u001b[0m \u001b[1;32mfor\u001b[0m \u001b[0mj\u001b[0m \u001b[1;32min\u001b[0m \u001b[0mrange\u001b[0m\u001b[1;33m(\u001b[0m\u001b[1;36m50\u001b[0m\u001b[1;33m)\u001b[0m\u001b[1;33m:\u001b[0m\u001b[1;33m\u001b[0m\u001b[1;33m\u001b[0m\u001b[0m\n\u001b[1;32m----> 2\u001b[1;33m     \u001b[0mturtle\u001b[0m\u001b[1;33m.\u001b[0m\u001b[0mforward\u001b[0m\u001b[1;33m(\u001b[0m\u001b[1;36m10\u001b[0m\u001b[1;33m+\u001b[0m\u001b[0mj\u001b[0m\u001b[1;33m*\u001b[0m\u001b[1;36m5\u001b[0m\u001b[1;33m)\u001b[0m\u001b[1;33m\u001b[0m\u001b[1;33m\u001b[0m\u001b[0m\n\u001b[0m\u001b[0;32m      3\u001b[0m     \u001b[0mturtle\u001b[0m\u001b[1;33m.\u001b[0m\u001b[0mleft\u001b[0m\u001b[1;33m(\u001b[0m\u001b[1;36m120\u001b[0m\u001b[1;33m)\u001b[0m\u001b[1;33m\u001b[0m\u001b[1;33m\u001b[0m\u001b[0m\n",
      "\u001b[1;31mNameError\u001b[0m: name 'turtle' is not defined"
     ]
    }
   ],
   "source": [
    "    for j in range(50):\n",
    "        turtle.forward(10+j*5)           \n",
    "        turtle.left(120)\n"
   ]
  },
  {
   "cell_type": "markdown",
   "metadata": {},
   "source": [
    "## 4. Full Code\n",
    "Use this code to run the program and see the end result in a seperate window.\n",
    "If it gives an error about speed or color, just run it again. Compilers love to complain :)"
   ]
  },
  {
   "cell_type": "code",
   "execution_count": 5,
   "metadata": {},
   "outputs": [],
   "source": [
    "import turtle\n",
    "turtle.speed(0)\n",
    "turtle.colormode(255)\n",
    "turtle.bgcolor(18, 55, 84)\n",
    "turtle.width(2)\n",
    "turtle.delay(0)\n",
    "turtle.hideturtle()\n",
    "turtle.color(\"white\")\n",
    "\n",
    "x=-150\n",
    "y=150\n",
    "coordinates=((x,y),(x+150,y+80),(x+280,y),(x+10,y-150),(x+140,y-230), (x+290,y-150))\n",
    "        \n",
    "\n",
    "def bristol_myers_squibb():\n",
    "    for i in coordinates:\n",
    "        turtle.penup()\n",
    "        turtle.setpos(i)\n",
    "        turtle.pendown()\n",
    "        index = coordinates.index(i)\n",
    "        \n",
    "        if index%2 == 0:\n",
    "            for j in range(50):\n",
    "                turtle.forward(10+j*5)           \n",
    "                turtle.left(120)   \n",
    "        else:\n",
    "            for j in range(50):\n",
    "                turtle.forward(10+j*5)           \n",
    "                turtle.right(120)\n",
    "        \n",
    "def text():\n",
    "    turtle.up()\n",
    "    turtle.setpos(-475, -350)\n",
    "    turtle.down()\n",
    "    turtle.write(\"Bristol-Myers Squibb\", font=( \n",
    "      \"Verdana\", 60, \"bold\")) \n",
    "        \n",
    "bristol_myers_squibb()\n",
    "text()\n",
    "\n",
    "turtle.exitonclick()\n"
   ]
  },
  {
   "cell_type": "markdown",
   "metadata": {},
   "source": [
    "# End result\n",
    "<img src=\"https://i.imgur.com/dHIbht8.png\" alt=\"Bristol-Myers Squibb logo\"/>"
   ]
  },
  {
   "cell_type": "code",
   "execution_count": null,
   "metadata": {},
   "outputs": [],
   "source": []
  }
 ],
 "metadata": {
  "kernelspec": {
   "display_name": "Python 3",
   "language": "python",
   "name": "python3"
  },
  "language_info": {
   "codemirror_mode": {
    "name": "ipython",
    "version": 3
   },
   "file_extension": ".py",
   "mimetype": "text/x-python",
   "name": "python",
   "nbconvert_exporter": "python",
   "pygments_lexer": "ipython3",
   "version": "3.9.1"
  }
 },
 "nbformat": 4,
 "nbformat_minor": 2
}
